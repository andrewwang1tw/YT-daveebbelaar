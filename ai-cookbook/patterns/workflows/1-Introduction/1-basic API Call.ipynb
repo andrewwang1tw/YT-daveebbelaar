{
 "cells": [
  {
   "cell_type": "markdown",
   "id": "58f75b20",
   "metadata": {},
   "source": [
    "# 1. Basic API Call\n",
    "- Use ollama.AsyncClient\n",
    "- https://www.youtube.com/watch?v=bZzyPscbtI8&t=268s"
   ]
  },
  {
   "cell_type": "code",
   "execution_count": null,
   "id": "cca3f927",
   "metadata": {},
   "outputs": [
    {
     "name": "stdout",
     "output_type": "stream",
     "text": [
      "\n",
      " Limerick Output:\n",
      "\n",
      " Here is a limerick about Python:\n",
      "\n",
      "There once was a coder so fine,\n",
      "Whose skills with Python did shine.\n",
      "She wrote with great ease,\n",
      "And her code brought peace,\n",
      "To the screens where her apps did entwine.\n"
     ]
    }
   ],
   "source": [
    "import ollama\n",
    "import asyncio\n",
    "\n",
    "# #Only for Jupyter Notebooks\n",
    "import nest_asyncio\n",
    "nest_asyncio.apply()\n",
    "\n",
    "async def main():     \n",
    "    OLLAMA_MODEL = 'llama3.1:8b'  \n",
    "    \n",
    "    ollama_async_client = ollama.AsyncClient()     \n",
    "    await ollama_async_client.pull(OLLAMA_MODEL)   \n",
    "     \n",
    "    response = await ollama_async_client.chat(        \n",
    "            model=OLLAMA_MODEL, \n",
    "            messages=[{'role': 'user', 'content': prompt}]\n",
    "        )\n",
    "\n",
    "    return response['message']['content']\n",
    "\n",
    "if __name__ == \"__main__\":\n",
    "    prompt = \"Write a limerick about the Python programming language.\"\n",
    "    result = asyncio.run(main())\n",
    "    print(f\"\\n Limerick Output:\\n\\n {result}\")"
   ]
  }
 ],
 "metadata": {
  "kernelspec": {
   "display_name": ".venv",
   "language": "python",
   "name": "python3"
  },
  "language_info": {
   "codemirror_mode": {
    "name": "ipython",
    "version": 3
   },
   "file_extension": ".py",
   "mimetype": "text/x-python",
   "name": "python",
   "nbconvert_exporter": "python",
   "pygments_lexer": "ipython3",
   "version": "3.13.7"
  }
 },
 "nbformat": 4,
 "nbformat_minor": 5
}
