{
 "cells": [
  {
   "cell_type": "markdown",
   "id": "24c5fcf9",
   "metadata": {},
   "source": [
    "# Using Tools\n"
   ]
  },
  {
   "cell_type": "code",
   "execution_count": 16,
   "id": "74a9b5a0",
   "metadata": {},
   "outputs": [],
   "source": [
    "import requests\n",
    "import json\n",
    "import instructor\n",
    "from openai import OpenAI\n",
    "from pydantic import BaseModel, Field\n",
    "\n",
    "#Only for Jupyter Notebooks\n",
    "import nest_asyncio\n",
    "nest_asyncio.apply()\n",
    "\n",
    "#--------------------------------------------------------\n",
    "# Initialize the OpenAI client for Ollama   \n",
    "# And add instructor wrapper for Pydantic validation\n",
    "#--------------------------------------------------------\n",
    "client = OpenAI(\n",
    "    base_url=\"http://localhost:11434/v1/\", \n",
    "    api_key=\"\"\n",
    ")\n",
    "client = instructor.patch(client)\n",
    "\n",
    "#--------------------------------------------------------\n",
    "# Tool response model \n",
    "#--------------------------------------------------------\n",
    "class WeatherResponse(BaseModel):\n",
    "    temperature: float = Field(description=\"The current temperature in celsius for the given location.\")\n",
    "    response: str = Field(description=\"A natural language response to the user's question.\")\n",
    "\n",
    "#----------------------------------------------------------\n",
    "# Tool \n",
    "#----------------------------------------------------------\n",
    "def get_weather(latitude, longitude):\n",
    "    \"\"\"This is a publically available API that returns the weather for a given location.\"\"\"   \n",
    "    response = requests.get(\n",
    "        f\"https://api.open-meteo.com/v1/forecast\"\n",
    "        f\"?latitude={latitude}&longitude={longitude}\"\n",
    "        f\"&current=temperature_2m,wind_speed_10m\"\n",
    "    )\n",
    "    data = response.json()\n",
    "    return data[\"current\"]\n",
    "\n",
    "#--------------------------------------------------------\n",
    "# Tool schema\n",
    "#--------------------------------------------------------\n",
    "tools = [\n",
    "    {\n",
    "        \"type\": \"function\",\n",
    "        \"function\": {\n",
    "            \"name\": \"get_weather\",\n",
    "            \"description\": \"Get current temperature for provided coordinates in celsius.\",\n",
    "            \"parameters\": {\n",
    "                \"type\": \"object\",\n",
    "                \"properties\": {\n",
    "                    \"latitude\": {\"type\": \"number\"},\n",
    "                    \"longitude\": {\"type\": \"number\"},\n",
    "                },\n",
    "                \"required\": [\"latitude\", \"longitude\"],\n",
    "                \"additionalProperties\": False,\n",
    "            },\n",
    "            \"strict\": True,\n",
    "        },\n",
    "    }\n",
    "]"
   ]
  },
  {
   "cell_type": "code",
   "execution_count": 14,
   "id": "0211be89",
   "metadata": {},
   "outputs": [
    {
     "name": "stdout",
     "output_type": "stream",
     "text": [
      "\n",
      "Tool ===> get_weather with args: {'latitude': 22.98, 'longitude': 120.21}, \n",
      "message ===>  ChatCompletionMessage(content='', refusal=None, role='assistant', annotations=None, audio=None, function_call=None, tool_calls=[ChatCompletionMessageFunctionToolCall(id='call_44kppyir', function=Function(arguments='{\"latitude\":22.98,\"longitude\":120.21}', name='get_weather'), type='function', index=0)])\n",
      "\n",
      "Tool Calling 結果 ===> {'time': '2025-09-06T11:15', 'interval': 900, 'temperature_2m': 28.4, 'wind_speed_10m': 3.7}\n"
     ]
    }
   ],
   "source": [
    "model=\"llama3.1:8b\"\n",
    "messages=[            \n",
    "    {\"role\": \"system\",  \"content\": \"You are a helpful weather assistant.\"},\n",
    "    {\"role\": \"user\",    \"content\": \"What's the weather like now in Tainan, Taiwan now ?\"},\n",
    "]\n",
    "\n",
    "#---------------------------------------------------------------------------------------------\n",
    "# 這是 OpenAI API 官方標準的端點 ===> 用於創建聊天對話的補全 (chat completion)。\n",
    "#---------------------------------------------------------------------------------------------\n",
    "# 1. 根據 messages 和 tools，模型決定是要直接生成文字回覆，還是要呼叫工具 (tool call)。\n",
    "#    當模型決定呼叫工具時，它的回覆會包含工具名稱和參數，但不會執行工具。\n",
    "#---------------------------------------------------------------------------------------------\n",
    "completion2 = client.chat.completions.create(\n",
    "    model=model,    \n",
    "    messages=messages,     \n",
    "    temperature=0, \n",
    "    tools=tools,      \n",
    ")\n",
    "#print(f\"\\nchat completion ===>\\n\", json.dumps(completion2.model_dump(), indent=2))   \n",
    "\n",
    "#----------------------------------------------------------------------------\n",
    "# 2. 如果 LLM 說要 Call Tool\n",
    "#----------------------------------------------------------------------------\n",
    "tool_calls = completion2.choices[0].message.tool_calls\n",
    "if tool_calls:  \n",
    "    for tool_call in completion2.choices[0].message.tool_calls:\n",
    "        # 3. 取出 Tool 的 name 和 參數  \n",
    "        # 4. 把模型的回覆加入到 messages 列表中。使 messages 現在包含了使用者發問和模型的回覆  \n",
    "        name = tool_call.function.name    \n",
    "        args = json.loads(tool_call.function.arguments)       \n",
    "        messages.append(completion2.choices[0].message)    \n",
    "        print(f\"\\nTool ===> {name} with args: {args}, \\nmessage ===> \", completion2.choices[0].message) \n",
    "                          \n",
    "        # 5. Tool Calling\n",
    "        result = None\n",
    "        if name == \"get_weather\":\n",
    "            result = get_weather(**args)           \n",
    "            messages.append(\n",
    "                {\"role\": \"tool\", \"tool_call_id\": tool_call.id, \"content\": json.dumps(result)}\n",
    "            )  \n",
    "            print(f\"\\nTool Calling 結果 ===> {result}\")   "
   ]
  },
  {
   "cell_type": "code",
   "execution_count": 13,
   "id": "3dbc5fe2",
   "metadata": {},
   "outputs": [
    {
     "name": "stdout",
     "output_type": "stream",
     "text": [
      "\n",
      "WeatherResponse Model 定義的 temperature ===>  28.4\n",
      "WeatherResponse Model 定義的 response ===>  The current weather in Tainan, Taiwan is warm with a comfortable temperature of 28.4°C (82.1°F). The winds are relatively calm, blowing at approximately 3.7 meters per second.\n"
     ]
    }
   ],
   "source": [
    "#----------------------------------------------------------------------------\n",
    "# 6. 最後讓 LLM 根據工具回傳的內容，生成你想要的自然語言回應。\n",
    "#    而且回傳格式會符合你定義的 WeatherResponse Pydantic schema\n",
    "#----------------------------------------------------------------------------\n",
    "completion = client.beta.chat.completions.parse(\n",
    "    model=model,\n",
    "    messages=messages,\n",
    "    tools=tools,\n",
    "    response_format=WeatherResponse,\n",
    ")\n",
    "\n",
    "final_response = completion.choices[0].message.parsed\n",
    "print(\"\\nWeatherResponse Model 定義的 temperature ===> \", final_response.temperature)\n",
    "print(\"WeatherResponse Model 定義的 response ===> \",final_response.response)\n"
   ]
  },
  {
   "cell_type": "markdown",
   "id": "c25fe459",
   "metadata": {},
   "source": [
    "🧑‍💻 使用者提問\n",
    "     ↓\n",
    "🧠 Step 1: client.chat.completions.create(...)\n",
    "     └─ LLM 判斷需要用 tool，例如 get_weather\n",
    "     └─ 產生 tool_call 指令 + arguments\n",
    "     ↓\n",
    "📨 Step 2: ✨ messages.append(模型提出的 tool_call message)\n",
    "     ↓\n",
    "⚙️ Step 3: 程式實際執行對應的 Tool function（如 get_weather(**args)）\n",
    "     ↓\n",
    "📨 Step 4: ✨ messages.append({\n",
    "         role: \"tool\",\n",
    "         tool_call_id: tool_call.id,\n",
    "         content: 工具回傳結果（如天氣資料）\n",
    "     })\n",
    "     ↓\n",
    "🧠 Step 5: client.beta.chat.completions.parse(...)\n",
    "     └─ 模型根據完整上下文（使用者提問 + tool_call + 工具結果）\n",
    "     └─ 產生最終自然語言回答 & 結構化資料（符合 Pydantic schema）\n"
   ]
  }
 ],
 "metadata": {
  "kernelspec": {
   "display_name": "Python-312 (.venv-312)",
   "language": "python",
   "name": ".venv-312"
  },
  "language_info": {
   "codemirror_mode": {
    "name": "ipython",
    "version": 3
   },
   "file_extension": ".py",
   "mimetype": "text/x-python",
   "name": "python",
   "nbconvert_exporter": "python",
   "pygments_lexer": "ipython3",
   "version": "3.12.7"
  }
 },
 "nbformat": 4,
 "nbformat_minor": 5
}
