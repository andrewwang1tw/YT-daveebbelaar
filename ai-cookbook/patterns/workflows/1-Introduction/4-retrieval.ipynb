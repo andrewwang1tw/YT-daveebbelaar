{
 "cells": [
  {
   "cell_type": "markdown",
   "id": "47835c15",
   "metadata": {},
   "source": [
    "# 4. Retrieval"
   ]
  },
  {
   "cell_type": "code",
   "execution_count": null,
   "id": "0dc021a9",
   "metadata": {},
   "outputs": [],
   "source": [
    "#Only for Jupyter Notebooks\n",
    "import nest_asyncio\n",
    "nest_asyncio.apply()\n"
   ]
  }
 ],
 "metadata": {
  "kernelspec": {
   "display_name": "Python-312 (.venv-312)",
   "language": "python",
   "name": ".venv-312"
  },
  "language_info": {
   "name": "python",
   "version": "3.12.7"
  }
 },
 "nbformat": 4,
 "nbformat_minor": 5
}
