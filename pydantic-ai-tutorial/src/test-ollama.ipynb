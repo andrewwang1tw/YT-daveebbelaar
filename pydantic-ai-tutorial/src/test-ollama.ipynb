{
 "cells": [
  {
   "cell_type": "markdown",
   "id": "c7a68169",
   "metadata": {},
   "source": [
    "# Pydantic agent using Ollama via provider"
   ]
  },
  {
   "cell_type": "code",
   "execution_count": null,
   "id": "c7270ffb",
   "metadata": {},
   "outputs": [
    {
     "name": "stdout",
     "output_type": "stream",
     "text": [
      "Taipei is the capital and largest city of Taiwan.\n"
     ]
    }
   ],
   "source": [
    "from pydantic_ai.models.openai import OpenAIChatModel\n",
    "from pydantic_ai.providers.openai import OpenAIProvider\n",
    "from pydantic_ai import Agent\n",
    "\n",
    "\n",
    "# Only need for jupyter  \n",
    "import nest_asyncio\n",
    "nest_asyncio.apply()\n",
    " \n",
    "# Ollama via OpenAI API compatibility mode\n",
    "provider = OpenAIProvider(\n",
    "    base_url=\"http://localhost:11434/v1/\" \n",
    ")\n",
    " \n",
    "model_ollama = OpenAIChatModel(\n",
    "    #model_name=\"gemma3:4b\",\n",
    "    model_name=\"llama3.1:8b\",\n",
    "    provider=provider\n",
    ")\n",
    "\n",
    "# Pydantic agent\n",
    "agent = Agent(\n",
    "    model=model_ollama, \n",
    "    system_prompt=['Reply in one sentence']\n",
    ")\n",
    "\n",
    "# Example question\n",
    "response = agent.run_sync('The capital of Taiwan is ?')\n",
    "print(response.output)"
   ]
  }
 ],
 "metadata": {
  "kernelspec": {
   "display_name": "Python-312 (.venv-312)",
   "language": "python",
   "name": ".venv-312"
  },
  "language_info": {
   "codemirror_mode": {
    "name": "ipython",
    "version": 3
   },
   "file_extension": ".py",
   "mimetype": "text/x-python",
   "name": "python",
   "nbconvert_exporter": "python",
   "pygments_lexer": "ipython3",
   "version": "3.12.7"
  }
 },
 "nbformat": 4,
 "nbformat_minor": 5
}
