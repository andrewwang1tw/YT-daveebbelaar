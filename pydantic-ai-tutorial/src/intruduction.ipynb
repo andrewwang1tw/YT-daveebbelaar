{
 "cells": [
  {
   "cell_type": "markdown",
   "id": "1531cc3c",
   "metadata": {},
   "source": [
    "# Introduction to PydanticAI.\n",
    "This module demonstrates how PydanticAI makes it easier to build production-grade LLM-powered systems with type safety and structured responses."
   ]
  },
  {
   "cell_type": "code",
   "execution_count": 3,
   "id": "e171ae53",
   "metadata": {},
   "outputs": [],
   "source": [
    "from typing import Dict, List, Optional\n",
    "from utils.markdown import to_markdown\n",
    "\n",
    "#Only for Jupyter Notebooks\n",
    "import nest_asyncio\n",
    "nest_asyncio.apply()"
   ]
  },
  {
   "cell_type": "markdown",
   "id": "473da335",
   "metadata": {},
   "source": [
    "# Use Ollama locally"
   ]
  },
  {
   "cell_type": "code",
   "execution_count": 4,
   "id": "b37573c5",
   "metadata": {},
   "outputs": [],
   "source": [
    "from pydantic import BaseModel, Field\n",
    "from pydantic_ai import Agent, ModelRetry, RunContext, Tool\n",
    "\n",
    "from pydantic_ai.models.openai import OpenAIModel\n",
    "from pydantic_ai.providers.openai import OpenAIProvider\n",
    " \n",
    "\n",
    "provider = OpenAIProvider(\n",
    "    base_url=\"http://localhost:11434/v1/\"\n",
    "    )\n",
    " \n",
    "model = OpenAIModel(\n",
    "    model_name=\"llama3.1:8b\",\n",
    "    provider=provider,   \n",
    "    )\n"
   ]
  },
  {
   "cell_type": "markdown",
   "id": "7d24ae33",
   "metadata": {},
   "source": [
    "# 1. Simple Agent - Hello World Example\n",
    "This example demonstrates the basic usage of PydanticAI agents.\n",
    "Key concepts:\n",
    "- Creating a basic agent with a system prompt\n",
    "- Running synchronous queries\n",
    "- Accessing response data, message history, and costs"
   ]
  },
  {
   "cell_type": "code",
   "execution_count": 5,
   "id": "c00113cf",
   "metadata": {},
   "outputs": [
    {
     "name": "stdout",
     "output_type": "stream",
     "text": [
      "output:  {response.output}\n",
      "[ModelRequest(parts=[SystemPromptPart(content='You are a helpful customer support agent. Be concise and friendly.', timestamp=datetime.datetime(2025, 8, 29, 8, 37, 21, 884310, tzinfo=datetime.timezone.utc)), UserPromptPart(content='How can I track my order #12345?', timestamp=datetime.datetime(2025, 8, 29, 8, 37, 21, 884315, tzinfo=datetime.timezone.utc))]), ModelResponse(parts=[TextPart(content='To check the status of your order, please visit our website at [website URL] and click on \"Track Order\" in the top right corner. Alternatively, you can reply with your email address associated with the order, and we can send you an update on its current status!')], usage=RequestUsage(input_tokens=38, output_tokens=57), model_name='llama3.1:8b', timestamp=datetime.datetime(2025, 8, 29, 8, 37, 24, tzinfo=TzInfo(UTC)), provider_request_id='chatcmpl-253')]\n",
      "[ModelRequest(parts=[SystemPromptPart(content='You are a helpful customer support agent. Be concise and friendly.', timestamp=datetime.datetime(2025, 8, 29, 8, 37, 21, 884310, tzinfo=datetime.timezone.utc)), UserPromptPart(content='How can I track my order #12345?', timestamp=datetime.datetime(2025, 8, 29, 8, 37, 21, 884315, tzinfo=datetime.timezone.utc))]), ModelResponse(parts=[TextPart(content='To check the status of your order, please visit our website at [website URL] and click on \"Track Order\" in the top right corner. Alternatively, you can reply with your email address associated with the order, and we can send you an update on its current status!')], usage=RequestUsage(input_tokens=38, output_tokens=57), model_name='llama3.1:8b', timestamp=datetime.datetime(2025, 8, 29, 8, 37, 24, tzinfo=TzInfo(UTC)), provider_request_id='chatcmpl-253')]\n",
      "\n",
      "--- Usage ---\n",
      "Total Requests: 1\n",
      "Input Tokens: 38\n",
      "Output Tokens: 57\n",
      "Total Tokens: 95\n"
     ]
    }
   ],
   "source": [
    "agent1 = Agent(\n",
    "    model=model,\n",
    "    system_prompt=\"You are a helpful customer support agent. Be concise and friendly.\",\n",
    ")\n",
    "\n",
    "# Example usage of basic agent\n",
    "response = agent1.run_sync(\n",
    "    user_prompt=\"How can I track my order #12345?\"\n",
    "    )\n",
    "\n",
    "print(\"output:  {response.output}\")\n",
    "print(response.new_messages())\n",
    "print(response.all_messages())\n",
    "\n",
    "usage_data = response.usage()\n",
    "if usage_data:\n",
    "    print(\"\\n--- Usage ---\")\n",
    "    print(f\"Total Requests: {usage_data.requests}\")\n",
    "    print(f\"Input Tokens: {usage_data.input_tokens}\")\n",
    "    print(f\"Output Tokens: {usage_data.output_tokens}\")\n",
    "    print(f\"Total Tokens: {usage_data.total_tokens}\")\n",
    "else:\n",
    "    print(\"Usage data not available.\")\n"
   ]
  },
  {
   "cell_type": "code",
   "execution_count": 7,
   "id": "1b7f9f24",
   "metadata": {},
   "outputs": [
    {
     "name": "stdout",
     "output_type": "stream",
     "text": [
      "Your previous question was how to track your order #12345.\n",
      "[ModelRequest(parts=[SystemPromptPart(content='You are a helpful customer support agent. Be concise and friendly.', timestamp=datetime.datetime(2025, 8, 28, 15, 1, 34, 962626, tzinfo=datetime.timezone.utc)), UserPromptPart(content='How can I track my order #12345?', timestamp=datetime.datetime(2025, 8, 28, 15, 1, 34, 962629, tzinfo=datetime.timezone.utc))]), ModelResponse(parts=[TextPart(content='To track your order #12345, you can follow these steps:\\n\\n1. Visit our website and click on \"Track Your Order\" at the top right corner.\\n2. Enter your order number (12345) in the required field.\\n3. Click \"Track Now\".\\n\\nAlternatively, you can also reply to this chat with the order number and I\\'d be happy to check its status for you.\\n\\nWhich method would you prefer?')], usage=RequestUsage(input_tokens=38, output_tokens=87), model_name='llama3.1:8b', timestamp=datetime.datetime(2025, 8, 28, 15, 1, 37, tzinfo=TzInfo(UTC)), provider_request_id='chatcmpl-631')]\n",
      "[ModelRequest(parts=[SystemPromptPart(content='You are a helpful customer support agent. Be concise and friendly.', timestamp=datetime.datetime(2025, 8, 28, 15, 1, 34, 962626, tzinfo=datetime.timezone.utc)), UserPromptPart(content='How can I track my order #12345?', timestamp=datetime.datetime(2025, 8, 28, 15, 1, 34, 962629, tzinfo=datetime.timezone.utc))]), ModelResponse(parts=[TextPart(content='To track your order #12345, you can follow these steps:\\n\\n1. Visit our website and click on \"Track Your Order\" at the top right corner.\\n2. Enter your order number (12345) in the required field.\\n3. Click \"Track Now\".\\n\\nAlternatively, you can also reply to this chat with the order number and I\\'d be happy to check its status for you.\\n\\nWhich method would you prefer?')], usage=RequestUsage(input_tokens=38, output_tokens=87), model_name='llama3.1:8b', timestamp=datetime.datetime(2025, 8, 28, 15, 1, 37, tzinfo=TzInfo(UTC)), provider_request_id='chatcmpl-631')]\n"
     ]
    }
   ],
   "source": [
    "response2 = agent1.run_sync(\n",
    "    user_prompt=\"What was my previous question?\",\n",
    "    message_history=response.new_messages(),\n",
    ")\n",
    "print(response2.output)\n",
    "print(response.new_messages())\n",
    "print(response.all_messages())"
   ]
  },
  {
   "cell_type": "markdown",
   "id": "0651becb",
   "metadata": {},
   "source": [
    "# 2. Agent with Structured Response\n",
    "This example shows how to get structured, type-safe responses from the agent. Key concepts:\n",
    "- Using Pydantic models to define response structure\n",
    "- Type validation and safety\n",
    "- Field descriptions for better model understanding"
   ]
  },
  {
   "cell_type": "code",
   "execution_count": 19,
   "id": "d2c09efe",
   "metadata": {},
   "outputs": [
    {
     "name": "stdout",
     "output_type": "stream",
     "text": [
      "{\n",
      "  \"response\": \"To check the status of your order #12345, please visit our website and use the tracking ID provided in your confirmation email. If you're unable to locate this information, please reply to this email with your order number and we'll be happy to assist further.\",\n",
      "  \"needs_escalation\": false,\n",
      "  \"follow_up_required\": true,\n",
      "  \"sentiment\": \"neutral\"\n",
      "}\n"
     ]
    }
   ],
   "source": [
    "class ResponseModel(BaseModel):\n",
    "    \"\"\"Structured response with metadata.\"\"\"\n",
    "    response: str\n",
    "    needs_escalation: bool\n",
    "    follow_up_required: bool\n",
    "    sentiment: str = Field(description=\"Customer sentiment analysis\")\n",
    "\n",
    "\n",
    "agent2 = Agent(\n",
    "    model=model,\n",
    "    output_type=ResponseModel,\n",
    "    system_prompt=(\n",
    "        \"You are an intelligent customer support agent. \"\n",
    "        \"Analyze queries carefully and provide structured responses.\"\n",
    "    ),\n",
    ")\n",
    "\n",
    "response = agent2.run_sync(\n",
    "    user_prompt=\"How can I track my order #12345?\"\n",
    "    )\n",
    "\n",
    "print(response.output.model_dump_json(indent=2))\n"
   ]
  },
  {
   "cell_type": "markdown",
   "id": "cfa543a3",
   "metadata": {},
   "source": [
    "# 3. Agent with Structured Response & Dependencies\n",
    "\n",
    "This example demonstrates how to use dependencies and context in agents.\n",
    "Key concepts:\n",
    "- Defining complex data models with Pydantic\n",
    "- Injecting runtime dependencies\n",
    "- Using dynamic system prompts\n"
   ]
  },
  {
   "cell_type": "code",
   "execution_count": null,
   "id": "3be58a79",
   "metadata": {},
   "outputs": [
    {
     "name": "stdout",
     "output_type": "stream",
     "text": [
      "[ModelRequest(parts=[SystemPromptPart(content='You are an intelligent customer support agent. Analyze queries carefully and provide structured responses. Always great the customer and provide a helpful response.', timestamp=datetime.datetime(2025, 8, 26, 12, 19, 27, 453050, tzinfo=datetime.timezone.utc)), SystemPromptPart(content='Customer details: ## CUSTOMER_ID\\n1\\n\\n## NAME\\nJohn Doe\\n\\n## EMAIL\\njohn.doe@example.com\\n\\n## ORDERS\\n### ORDER_ID\\n12345\\n\\n### STATUS\\nshipped\\n\\n### ITEMS\\n- Blue Jeans\\n- T-Shirt\\n\\n\\n', timestamp=datetime.datetime(2025, 8, 26, 12, 19, 27, 453105, tzinfo=datetime.timezone.utc)), UserPromptPart(content='What did I order?', timestamp=datetime.datetime(2025, 8, 26, 12, 19, 27, 453110, tzinfo=datetime.timezone.utc))]), ModelResponse(parts=[TextPart(content='{\"name\": \"final_result\", \"parameters\": {\\n\"follow_up_required\": False,\\n\"needs_escalation\": False,\\n\"response\": \"You have ordered a Blue Jeans and T-Shirt. Your order number is 12345, and the status is shipped.\",\\n\"sentiment\": \"neutral\"}}')], usage=RequestUsage(input_tokens=285, output_tokens=62), model_name='llama3.1:8b', timestamp=datetime.datetime(2025, 8, 26, 12, 19, 32, tzinfo=TzInfo(UTC)), provider_request_id='chatcmpl-470'), ModelRequest(parts=[RetryPromptPart(content='Plain text responses are not permitted, please include your response in a tool call', tool_call_id='pyd_ai_ffd3d0ccef2c4d968bfe3310fcd13ad1', timestamp=datetime.datetime(2025, 8, 26, 12, 19, 32, 351577, tzinfo=datetime.timezone.utc))]), ModelResponse(parts=[TextPart(content='{\"name\": \"final_result\", \"parameters\": {\"response\": \"You ordered Blue Jeans and T-Shirt, order number 12345 is shipped.\", \"needs_escalation\": False, \"follow_up_required\": True, \"sentiment\": \"neutral\"}}')], usage=RequestUsage(input_tokens=382, output_tokens=53), model_name='llama3.1:8b', timestamp=datetime.datetime(2025, 8, 26, 12, 19, 34, tzinfo=TzInfo(UTC)), provider_request_id='chatcmpl-233'), ModelRequest(parts=[RetryPromptPart(content='Plain text responses are not permitted, please include your response in a tool call', tool_call_id='pyd_ai_fff0da927b13434db562d65e3334bd01', timestamp=datetime.datetime(2025, 8, 26, 12, 19, 34, 164156, tzinfo=datetime.timezone.utc))]), ModelResponse(parts=[ToolCallPart(tool_name='final_result', args='{\"follow_up_required\":\"True\",\"needs_escalation\":\"False\",\"response\":\"Please check the formatted response for accurate information about your order. Your Blue Jeans and T-Shirt, order number 12345 is shipped.\",\"sentiment\":\"neutral\"}', tool_call_id='call_ps7bjoyv')], usage=RequestUsage(input_tokens=470, output_tokens=66), model_name='llama3.1:8b', timestamp=datetime.datetime(2025, 8, 26, 12, 19, 36, tzinfo=TzInfo(UTC)), provider_request_id='chatcmpl-443'), ModelRequest(parts=[ToolReturnPart(tool_name='final_result', content='Final result processed.', tool_call_id='call_ps7bjoyv', timestamp=datetime.datetime(2025, 8, 26, 12, 19, 36, 403601, tzinfo=datetime.timezone.utc))])]\n",
      "model_dump_json:\n",
      " {\n",
      "  \"response\": \"Please check the formatted response for accurate information about your order. Your Blue Jeans and T-Shirt, order number 12345 is shipped.\",\n",
      "  \"needs_escalation\": false,\n",
      "  \"follow_up_required\": true,\n",
      "  \"sentiment\": \"neutral\"\n",
      "}\n",
      "\n",
      "Customer Details:\n",
      "Name: John Doe\n",
      "Email: john.doe@example.com\n",
      "\n",
      "Response Details:\n",
      "Please check the formatted response for accurate information about your order. Your Blue Jeans and T-Shirt, order number 12345 is shipped.\n",
      "\n",
      "Status:\n",
      "Follow-up Required: True\n",
      "Needs Escalation: False\n"
     ]
    }
   ],
   "source": [
    "# Define order schema\n",
    "class Order(BaseModel):\n",
    "    \"\"\"Structure for order details.\"\"\"\n",
    "    order_id: str\n",
    "    status: str\n",
    "    items: List[str]\n",
    "\n",
    "\n",
    "# Define customer schema\n",
    "class CustomerDetails(BaseModel):\n",
    "    \"\"\"Structure for incoming customer queries.\"\"\"\n",
    "    customer_id: str\n",
    "    name: str\n",
    "    email: str\n",
    "    orders: Optional[List[Order]] = None\n",
    "\n",
    "\n",
    "# Agent with structured output and dependencies\n",
    "agent3 = Agent(\n",
    "    model=model,\n",
    "    output_type=ResponseModel,\n",
    "    deps_type=CustomerDetails,\n",
    "    retries=3,\n",
    "    system_prompt=(\n",
    "        \"You are an intelligent customer support agent. \"\n",
    "        \"Analyze queries carefully and provide structured responses. \"\n",
    "        \"Always great the customer and provide a helpful response.\"\n",
    "    ),  # These are known when writing the code\n",
    ")\n",
    "\n",
    "\n",
    "# Add dynamic system prompt based on dependencies\n",
    "@agent3.system_prompt\n",
    "async def add_customer_name(ctx: RunContext[CustomerDetails]) -> str:\n",
    "    return f\"Customer details: {to_markdown(ctx.deps)}\"  # These depend in some way on context that isn't known until runtime\n",
    "\n",
    "\n",
    "customer = CustomerDetails(\n",
    "    customer_id=\"1\",\n",
    "    name=\"John Doe\",\n",
    "    email=\"john.doe@example.com\",\n",
    "    orders=[\n",
    "        Order(order_id=\"12345\", status=\"shipped\", items=[\"Blue Jeans\", \"T-Shirt\"]),\n",
    "    ],\n",
    ")\n",
    "\n",
    "response = agent3.run_sync(user_prompt=\"What did I order?\", deps=customer)\n",
    "print(response.all_messages())\n",
    "\n",
    "print(f\"\\nmodel_dump_json:\\n\", response.output.model_dump_json(indent=2))\n",
    "\n",
    "print(f\"\\n\"\n",
    "    \"Customer Details:\\n\"\n",
    "    f\"Name: {customer.name}\\n\"\n",
    "    f\"Email: {customer.email}\\n\\n\"\n",
    "    \"Response Details:\\n\"\n",
    "    f\"{response.output.response}\\n\\n\"\n",
    "    \"Status:\\n\"\n",
    "    f\"Follow-up Required: {response.output.follow_up_required}\\n\"\n",
    "    f\"Needs Escalation: {response.output.needs_escalation}\"\n",
    ")\n"
   ]
  },
  {
   "cell_type": "markdown",
   "id": "f406d61c",
   "metadata": {},
   "source": [
    "# 4. Agent with Tools\n",
    "This example shows how to enhance agents with custom tools.\n",
    "Key concepts:\n",
    "- Creating and registering tools\n",
    "- Accessing context in tools\n"
   ]
  },
  {
   "cell_type": "code",
   "execution_count": 122,
   "id": "ac235723",
   "metadata": {},
   "outputs": [
    {
     "name": "stdout",
     "output_type": "stream",
     "text": [
      "[ModelRequest(parts=[SystemPromptPart(content='You are an intelligent customer support agent. Analyze queries carefully and provide structured responses. Use tools to look up relevant information.Always great the customer and provide a helpful response.', timestamp=datetime.datetime(2025, 8, 26, 15, 9, 40, 972785, tzinfo=datetime.timezone.utc)), SystemPromptPart(content='Customer details: ## CUSTOMER_ID\\n1\\n\\n## NAME\\nJohn Doe\\n\\n## EMAIL\\njohn.doe@example.com\\n\\n## ORDERS\\n### ORDER_ID\\n12345\\n\\n### STATUS\\nshipped\\n\\n### ITEMS\\n- Blue Jeans\\n- T-Shirt\\n\\n\\n', timestamp=datetime.datetime(2025, 8, 26, 15, 9, 40, 972825, tzinfo=datetime.timezone.utc)), UserPromptPart(content=\"What's the status of my last order?\", timestamp=datetime.datetime(2025, 8, 26, 15, 9, 40, 972827, tzinfo=datetime.timezone.utc))]), ModelResponse(parts=[TextPart(content='{\"name\": \"get_order_info\", \"parameters\": {\"order_id\": \"12345}} \\n\\n(Note: The function is assumed to exist, but it\\'s not present in provided functions. If get_order_info exists, it would have been a more specific and fitting response for the customer.)')], usage=RequestUsage(input_tokens=334, output_tokens=59), model_name='llama3.1:8b', timestamp=datetime.datetime(2025, 8, 26, 15, 9, 43, tzinfo=TzInfo(UTC)), provider_request_id='chatcmpl-955'), ModelRequest(parts=[RetryPromptPart(content='Plain text responses are not permitted, please include your response in a tool call', tool_call_id='pyd_ai_7f0de3fda0b24c56bb90109e363619c1', timestamp=datetime.datetime(2025, 8, 26, 15, 9, 43, 175366, tzinfo=datetime.timezone.utc))]), ModelResponse(parts=[ToolCallPart(tool_name='final_result', args='{\"follow_up_required\":\"false\",\"needs_escalation\":\"false\",\"response\":\"Your last order is currently \\'shipped\\'. You can log into your account to track its delivery details.\",\"sentiment\":\"positive\"}', tool_call_id='call_lxssidv6')], usage=RequestUsage(input_tokens=428, output_tokens=60), model_name='llama3.1:8b', timestamp=datetime.datetime(2025, 8, 26, 15, 9, 45, tzinfo=TzInfo(UTC)), provider_request_id='chatcmpl-109'), ModelRequest(parts=[ToolReturnPart(tool_name='final_result', content='Final result processed.', tool_call_id='call_lxssidv6', timestamp=datetime.datetime(2025, 8, 26, 15, 9, 45, 219377, tzinfo=datetime.timezone.utc))])]\n",
      "{\n",
      "  \"response\": \"Your last order is currently 'shipped'. You can log into your account to track its delivery details.\",\n",
      "  \"needs_escalation\": false,\n",
      "  \"follow_up_required\": false,\n",
      "  \"sentiment\": \"positive\"\n",
      "}\n",
      "\n",
      "Customer Details:\n",
      "Name: John Doe\n",
      "Email: john.doe@example.com\n",
      "\n",
      "Response Details:\n",
      "Your last order is currently 'shipped'. You can log into your account to track its delivery details.\n",
      "\n",
      "Status:\n",
      "Follow-up Required: False\n",
      "Needs Escalation: False\n"
     ]
    }
   ],
   "source": [
    "shipping_info_db: Dict[str, str] = {\n",
    "    \"12345\": \"Shipped on 2024-12-01\",\n",
    "    \"67890\": \"Out for delivery\",\n",
    "}\n",
    "\n",
    "customerDetail4 = CustomerDetails(\n",
    "    customer_id=\"1\",\n",
    "    name=\"John Doe\",\n",
    "    email=\"john.doe@example.com\",\n",
    "    orders=[\n",
    "        Order(order_id=\"12345\", status=\"shipped\", items=[\"Blue Jeans\", \"T-Shirt\"]),\n",
    "    ],\n",
    ")\n",
    "\n",
    "def get_shipping_info(ctx: RunContext[CustomerDetails]) -> str:\n",
    "    \"\"\"Get the customer's shipping information.\"\"\"\n",
    "    return shipping_info_db[ctx.deps.orders[0].order_id]\n",
    "\n",
    "\n",
    "# Agent with structured output and dependencies\n",
    "agent4 = Agent(\n",
    "    model=model,\n",
    "    output_type=ResponseModel,\n",
    "    deps_type=CustomerDetails,\n",
    "    retries=3,    \n",
    "    system_prompt=(\n",
    "        \"You are an intelligent customer support agent. \"\n",
    "        \"Analyze queries carefully and provide structured responses. \"\n",
    "        \"Use tools to look up relevant information.\"\n",
    "        \"Always great the customer and provide a helpful response.\"\n",
    "    ),  # These are known when writing the code\n",
    "    \n",
    "    # Add tool via kwarg\n",
    "    tools=[Tool(get_shipping_info, takes_ctx=True)],  \n",
    ")\n",
    "\n",
    "\n",
    "@agent4.system_prompt\n",
    "async def add_customer_name(ctx: RunContext[CustomerDetails]) -> str:\n",
    "    return f\"Customer details: {to_markdown(ctx.deps)}\"\n",
    "\n",
    "\n",
    "response = agent4.run_sync(\n",
    "    #user_prompt=\"What's the ship status and ship date of my last order?\",\n",
    "    user_prompt=\"What's the status of my last order?\", \n",
    "    deps=customerDetail4\n",
    "    )\n",
    "\n",
    "print(response.all_messages())\n",
    "print(response.output.model_dump_json(indent=2))\n",
    "\n",
    "print(\n",
    "    f\"\\nCustomer Details:\\n\"\n",
    "    f\"Name: {customer.name}\\n\"\n",
    "    f\"Email: {customer.email}\\n\\n\"\n",
    "    \"Response Details:\\n\"\n",
    "    f\"{response.output.response}\\n\\n\"\n",
    "    \"Status:\\n\"\n",
    "    f\"Follow-up Required: {response.output.follow_up_required}\\n\"\n",
    "    f\"Needs Escalation: {response.output.needs_escalation}\"\n",
    ")\n"
   ]
  },
  {
   "cell_type": "markdown",
   "id": "1dbe97a3",
   "metadata": {},
   "source": [
    "# 5. Agent with Reflection and Self-Correction\n",
    "This example demonstrates advanced agent capabilities with self-correction.\n",
    "Key concepts:\n",
    "- Implementing self-reflection\n",
    "- Handling errors gracefully with retries\n",
    "- Using ModelRetry for automatic retries\n",
    "- Decorator-based tool registration"
   ]
  },
  {
   "cell_type": "code",
   "execution_count": null,
   "id": "22fbb411",
   "metadata": {},
   "outputs": [
    {
     "name": "stdout",
     "output_type": "stream",
     "text": [
      "{\n",
      "   \"response\": \"The shipping status for your order #12345 is shipped, and the ship date was December 1st, 2024.\",\n",
      "   \"needs_escalation\": false,\n",
      "   \"follow_up_required\": true,\n",
      "   \"sentiment\": \"neutral\"\n",
      "}\n"
     ]
    }
   ],
   "source": [
    "# Simulated database of shipping information\n",
    "shipping_info_db: Dict[str, str] = {\n",
    "    \"#12345\": \"Shipped on 2024-12-01\",\n",
    "    \"#67890\": \"Out for delivery\",\n",
    "}\n",
    "\n",
    "\n",
    "customerDetail5 = CustomerDetails(\n",
    "    customer_id=\"1\",\n",
    "    name=\"John Doe\",\n",
    "    email=\"john.doe@example.com\",\n",
    "    orders=[\n",
    "        Order(order_id=\"#12345\", status=\"shipped\", items=[\"Blue Jeans\", \"T-Shirt\"]),\n",
    "        Order(order_id=\"#67890\", status=\"Not shipped\", items=[\"T-Shirt\"]),\n",
    "    ],\n",
    ")\n",
    "\n",
    "agent5 = Agent(\n",
    "    model=model,\n",
    "    model_settings={\"temperature\": 0.1}, \n",
    "    output_type=ResponseModel,\n",
    "    deps_type=CustomerDetails,\n",
    "    retries=3,\n",
    "    system_prompt=(\n",
    "        \"You are an intelligent customer support agent. Analyze queries carefully and provide structured responses. \"\n",
    "        \"Use tools to look up relevant information. Always greet the customer and provide a helpful response.\"\n",
    "    ),\n",
    ")\n",
    "\n",
    "\n",
    "@agent5.tool_plain()\n",
    "def get_shipping_status(order_id: str) -> str:\n",
    "    \"\"\"Get the shipping status for a given order ID.\"\"\"\n",
    "    shipping_status = shipping_info_db.get(order_id)\n",
    "    if shipping_status is None:\n",
    "        raise ModelRetry(\n",
    "            f\"No shipping information found for order ID {order_id}. Make sure the order ID starts with a #: e.g, #624743 \"\n",
    "            \"Self-correct this if needed and try again.\"\n",
    "        )\n",
    "    return shipping_info_db[order_id]\n",
    "\n",
    "\n",
    "@agent5.system_prompt\n",
    "async def add_customer_name(ctx: RunContext[CustomerDetails]) -> str:\n",
    "    return f\"Customer details: {to_markdown(ctx.deps)}\"\n",
    "\n",
    "\n",
    "# Example usage\n",
    "response = agent5.run_sync(\n",
    "    user_prompt=\"What's the ship status and ship date of my order #12345 ?\", \n",
    "    deps=customerDetail5\n",
    "    )\n",
    "\n",
    "\n",
    "print(response.output.model_dump_json(indent=3))\n"
   ]
  }
 ],
 "metadata": {
  "kernelspec": {
   "display_name": ".venv",
   "language": "python",
   "name": "python3"
  },
  "language_info": {
   "codemirror_mode": {
    "name": "ipython",
    "version": 3
   },
   "file_extension": ".py",
   "mimetype": "text/x-python",
   "name": "python",
   "nbconvert_exporter": "python",
   "pygments_lexer": "ipython3",
   "version": "3.13.7"
  }
 },
 "nbformat": 4,
 "nbformat_minor": 5
}
